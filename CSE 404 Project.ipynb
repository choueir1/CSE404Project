{
 "cells": [
  {
   "cell_type": "markdown",
   "id": "e91f5545-3b1c-493c-9e52-ea4d00989cde",
   "metadata": {},
   "source": [
    "CSE 404 Project"
   ]
  },
  {
   "cell_type": "markdown",
   "id": "1736ba4c-0435-48ca-aa5c-3d98a17f2ea2",
   "metadata": {},
   "source": [
    "### Project Overview"
   ]
  },
  {
   "cell_type": "markdown",
   "id": "f61164e2-add4-4cd7-9aec-f6f13a6ef9d5",
   "metadata": {},
   "source": [
    "### Data Cleaning and Preprocessing\n",
    "\n",
    "##### Exploratory Data Analysis (EDA)\n",
    "- Check the structure of the dataset:\n",
    "  - Verify column names and data types\n",
    "  - Ensure consistency in stock symbols\n",
    "- Identify missing values:\n",
    "  - If missing values exist in **Open/Close**: Fill with the average of previous and next day's values. \n",
    "  - If missing values exist in **Volume**: Fill with the median for a stable estimare or zero if it represents a non-trading day.\n",
    "- Identify duplicate rows:\n",
    "  - If duplicate trading days exist for the same stock, drop them.\n",
    "\n",
    "##### Split dataset into training, test, and validation set\n",
    "- Use **70/15/15 split** for training, testing, and validation\n",
    "\n",
    "\n",
    "##### Feature Scaling \n",
    "- Scale features using **StandardScaler**"
   ]
  },
  {
   "cell_type": "code",
   "execution_count": 9,
   "id": "2b948075-e937-4853-bcfa-8f143b979d02",
   "metadata": {},
   "outputs": [],
   "source": [
    "import numpy as np\n",
    "import pandas as pd"
   ]
  },
  {
   "cell_type": "code",
   "execution_count": 12,
   "id": "d6660e81-2d31-47d9-8a59-e202b2eeeb6f",
   "metadata": {},
   "outputs": [
    {
     "name": "stdout",
     "output_type": "stream",
     "text": [
      "<class 'pandas.core.frame.DataFrame'>\n",
      "RangeIndex: 88436 entries, 0 to 88435\n",
      "Columns: 126 entries, Date to Volume_^DJI\n",
      "dtypes: float64(125), object(1)\n",
      "memory usage: 85.0+ MB\n"
     ]
    },
    {
     "data": {
      "text/plain": [
       "(None,\n",
       "          Date  Close_AAPL  High_AAPL  Low_AAPL  Open_AAPL  Volume_AAPL  \\\n",
       " 0  2000-01-03    0.842150   0.846382  0.765036   0.789017  535796800.0   \n",
       " 1  2000-01-04    0.771149   0.832276  0.761274   0.814408  512377600.0   \n",
       " 2  2000-01-05    0.782433   0.831806  0.774910   0.780553  778321600.0   \n",
       " 3  2000-01-06    0.714723   0.805004  0.714723   0.798421  767972800.0   \n",
       " 4  2000-01-07    0.748578   0.759864  0.718485   0.726008  460734400.0   \n",
       " \n",
       "    Close_GOOG  High_GOOG  Low_GOOG  Open_GOOG  ...  Close_^GSPC  High_^GSPC  \\\n",
       " 0         NaN        NaN       NaN        NaN  ...          NaN         NaN   \n",
       " 1         NaN        NaN       NaN        NaN  ...          NaN         NaN   \n",
       " 2         NaN        NaN       NaN        NaN  ...          NaN         NaN   \n",
       " 3         NaN        NaN       NaN        NaN  ...          NaN         NaN   \n",
       " 4         NaN        NaN       NaN        NaN  ...          NaN         NaN   \n",
       " \n",
       "    Low_^GSPC  Open_^GSPC  Volume_^GSPC  Close_^DJI  High_^DJI  Low_^DJI  \\\n",
       " 0        NaN         NaN           NaN         NaN        NaN       NaN   \n",
       " 1        NaN         NaN           NaN         NaN        NaN       NaN   \n",
       " 2        NaN         NaN           NaN         NaN        NaN       NaN   \n",
       " 3        NaN         NaN           NaN         NaN        NaN       NaN   \n",
       " 4        NaN         NaN           NaN         NaN        NaN       NaN   \n",
       " \n",
       "    Open_^DJI  Volume_^DJI  \n",
       " 0        NaN          NaN  \n",
       " 1        NaN          NaN  \n",
       " 2        NaN          NaN  \n",
       " 3        NaN          NaN  \n",
       " 4        NaN          NaN  \n",
       " \n",
       " [5 rows x 126 columns])"
      ]
     },
     "execution_count": 12,
     "metadata": {},
     "output_type": "execute_result"
    }
   ],
   "source": [
    "# Load the CSV file\n",
    "stocks = pd.read_csv(\"stocks.csv\")\n",
    "\n",
    "# Display basic info and first few rows\n",
    "df.info(), df.head()"
   ]
  },
  {
   "cell_type": "code",
   "execution_count": null,
   "id": "3a444f72-67c5-4331-9070-7ce6dd15c32b",
   "metadata": {},
   "outputs": [],
   "source": []
  },
  {
   "cell_type": "markdown",
   "id": "1d23287e-ba67-4b0d-825d-4ad20d7baa33",
   "metadata": {},
   "source": [
    "### Logistic Regression"
   ]
  },
  {
   "cell_type": "markdown",
   "id": "9cc34552-b12c-493e-b78c-72b41264a48e",
   "metadata": {},
   "source": [
    "### Neural Network Model:"
   ]
  },
  {
   "cell_type": "markdown",
   "id": "7145335b-2cea-45ff-bae5-35a5690f51f7",
   "metadata": {},
   "source": [
    "### Evaluation"
   ]
  },
  {
   "cell_type": "code",
   "execution_count": null,
   "id": "5e76032c-72cc-4db7-b97d-2bd6ee996844",
   "metadata": {},
   "outputs": [],
   "source": []
  }
 ],
 "metadata": {
  "kernelspec": {
   "display_name": "Python 3.11 (default)",
   "language": "python",
   "name": "python3"
  },
  "language_info": {
   "codemirror_mode": {
    "name": "ipython",
    "version": 3
   },
   "file_extension": ".py",
   "mimetype": "text/x-python",
   "name": "python",
   "nbconvert_exporter": "python",
   "pygments_lexer": "ipython3",
   "version": "3.11.11"
  }
 },
 "nbformat": 4,
 "nbformat_minor": 5
}
