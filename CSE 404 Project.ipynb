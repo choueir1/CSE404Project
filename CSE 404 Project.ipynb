{
 "cells": [
  {
   "cell_type": "markdown",
   "id": "e91f5545-3b1c-493c-9e52-ea4d00989cde",
   "metadata": {},
   "source": [
    "CSE 404 Project"
   ]
  },
  {
   "cell_type": "markdown",
   "id": "1736ba4c-0435-48ca-aa5c-3d98a17f2ea2",
   "metadata": {},
   "source": [
    "### Project Overview"
   ]
  },
  {
   "cell_type": "markdown",
   "id": "f61164e2-add4-4cd7-9aec-f6f13a6ef9d5",
   "metadata": {},
   "source": [
    "### Data Cleaning and Preprocessing\n",
    "\n",
    "##### Exploratory Data Analysis (EDA)\n",
    "- Check the structure of the dataset:\n",
    "  - Verify column names and data types\n",
    "  - Ensure consistency in stock symbols\n",
    "- Identify missing values:\n",
    "  - If missing values exist in **Open/Close**: Fill with the average of previous and next day's values. \n",
    "  - If missing values exist in **Volume**: Fill with the median for a stable estimare or zero if it represents a non-trading day.\n",
    "- Identify duplicate rows:\n",
    "  - If duplicate trading days exist for the same stock, drop them.\n",
    "\n",
    "##### Split dataset into training, test, and validation set\n",
    "- Use **70/15/15 split** for training, testing, and validation\n",
    "\n",
    "\n",
    "##### Feature Scaling \n",
    "- Scale features using **StandardScaler**"
   ]
  },
  {
   "cell_type": "code",
   "execution_count": 38,
   "id": "2b948075-e937-4853-bcfa-8f143b979d02",
   "metadata": {},
   "outputs": [],
   "source": [
    "import numpy as np\n",
    "import pandas as pd"
   ]
  },
  {
   "cell_type": "markdown",
   "id": "1d23287e-ba67-4b0d-825d-4ad20d7baa33",
   "metadata": {},
   "source": [
    "### Logistic Regression"
   ]
  },
  {
   "cell_type": "code",
   "execution_count": null,
   "id": "827e11b8",
   "metadata": {},
   "outputs": [],
   "source": [
    "# Load the CSV file\n",
    "file_path = \"stocks.csv\"\n",
    "df = pd.read_csv(file_path)\n",
    "\n",
    "# Display basic info and first few rows\n",
    "df.info(), df.head()"
   ]
  },
  {
   "cell_type": "markdown",
   "id": "9cc34552-b12c-493e-b78c-72b41264a48e",
   "metadata": {},
   "source": [
    "### Neural Network Model:"
   ]
  },
  {
   "cell_type": "markdown",
   "id": "7145335b-2cea-45ff-bae5-35a5690f51f7",
   "metadata": {},
   "source": [
    "### Evaluation"
   ]
  },
  {
   "cell_type": "code",
   "execution_count": null,
   "id": "5e76032c-72cc-4db7-b97d-2bd6ee996844",
   "metadata": {},
   "outputs": [],
   "source": []
  }
 ],
 "metadata": {
  "kernelspec": {
   "display_name": "Python 3 (ipykernel)",
   "language": "python",
   "name": "python3"
  },
  "language_info": {
   "codemirror_mode": {
    "name": "ipython",
    "version": 3
   },
   "file_extension": ".py",
   "mimetype": "text/x-python",
   "name": "python",
   "nbconvert_exporter": "python",
   "pygments_lexer": "ipython3",
   "version": "3.12.4"
  }
 },
 "nbformat": 4,
 "nbformat_minor": 5
}
